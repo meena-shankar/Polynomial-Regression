{
  "nbformat": 4,
  "nbformat_minor": 0,
  "metadata": {
    "colab": {
      "name": "python generators",
      "provenance": [],
      "collapsed_sections": [],
      "authorship_tag": "ABX9TyMZ/txWpyFfYngBq/ddt2re"
    },
    "kernelspec": {
      "name": "python3",
      "display_name": "Python 3"
    },
    "language_info": {
      "name": "python"
    }
  },
  "cells": [
    {
      "cell_type": "markdown",
      "metadata": {
        "id": "5kDWemFXXBM8"
      },
      "source": [
        "# ***Python Genarator:***"
      ]
    },
    {
      "cell_type": "markdown",
      "metadata": {
        "id": "Y_-Ts6kzdvQz"
      },
      "source": [
        "*Yield and next function is used*"
      ]
    },
    {
      "cell_type": "markdown",
      "metadata": {
        "id": "9CqAukdft64N"
      },
      "source": [
        "***for integer, we use print function after yield, to display output***"
      ]
    },
    {
      "cell_type": "code",
      "metadata": {
        "colab": {
          "base_uri": "https://localhost:8080/"
        },
        "id": "yrmF9RAvXtVJ",
        "outputId": "0ff62126-df63-4fea-e1c9-8f8ebe254573"
      },
      "source": [
        "value=int(input(\"enter the number for which we need factorial:\"))\n",
        "def py_deco():\n",
        "  \n",
        "  fact=1\n",
        "  for n in range(1,value+1):\n",
        "    fact=fact*n\n",
        "    yield fact"
      ],
      "execution_count": null,
      "outputs": [
        {
          "output_type": "stream",
          "text": [
            "enter the number for which we need factorial:5\n"
          ],
          "name": "stdout"
        }
      ]
    },
    {
      "cell_type": "code",
      "metadata": {
        "id": "rZ2qtk4nZwry"
      },
      "source": [
        "x=py_deco()"
      ],
      "execution_count": null,
      "outputs": []
    },
    {
      "cell_type": "code",
      "metadata": {
        "colab": {
          "base_uri": "https://localhost:8080/"
        },
        "id": "jTErnqdUaciY",
        "outputId": "cea76f32-ac62-4213-f2aa-0695793bb4fe"
      },
      "source": [
        "print(next(x))"
      ],
      "execution_count": null,
      "outputs": [
        {
          "output_type": "stream",
          "text": [
            "1\n"
          ],
          "name": "stdout"
        }
      ]
    },
    {
      "cell_type": "code",
      "metadata": {
        "colab": {
          "base_uri": "https://localhost:8080/"
        },
        "id": "sbglkgyObc60",
        "outputId": "070a9b17-0756-4c53-d862-76a314afe099"
      },
      "source": [
        "print(next(x))"
      ],
      "execution_count": null,
      "outputs": [
        {
          "output_type": "stream",
          "text": [
            "2\n"
          ],
          "name": "stdout"
        }
      ]
    },
    {
      "cell_type": "code",
      "metadata": {
        "colab": {
          "base_uri": "https://localhost:8080/"
        },
        "id": "QUa8O3SIbfNe",
        "outputId": "6f81a98f-0130-4797-b61d-4ab41ae14383"
      },
      "source": [
        "print(next(x))"
      ],
      "execution_count": null,
      "outputs": [
        {
          "output_type": "stream",
          "text": [
            "6\n"
          ],
          "name": "stdout"
        }
      ]
    },
    {
      "cell_type": "code",
      "metadata": {
        "colab": {
          "base_uri": "https://localhost:8080/"
        },
        "id": "UUvEMAUabics",
        "outputId": "db4e907e-1171-4f5d-d04f-09d00495f60c"
      },
      "source": [
        "print(next(x))"
      ],
      "execution_count": null,
      "outputs": [
        {
          "output_type": "stream",
          "text": [
            "24\n"
          ],
          "name": "stdout"
        }
      ]
    },
    {
      "cell_type": "code",
      "metadata": {
        "colab": {
          "base_uri": "https://localhost:8080/"
        },
        "id": "rXZDO_gKblI2",
        "outputId": "f66a9b98-38de-4a21-f612-8e793b4f770d"
      },
      "source": [
        "print(next(x))"
      ],
      "execution_count": null,
      "outputs": [
        {
          "output_type": "stream",
          "text": [
            "120\n"
          ],
          "name": "stdout"
        }
      ]
    },
    {
      "cell_type": "code",
      "metadata": {
        "colab": {
          "base_uri": "https://localhost:8080/",
          "height": 162
        },
        "id": "04KICJFrbml0",
        "outputId": "a080b0e8-f1a7-44c4-dcde-b9c3f37c469d"
      },
      "source": [
        "print(next(x))"
      ],
      "execution_count": null,
      "outputs": [
        {
          "output_type": "error",
          "ename": "StopIteration",
          "evalue": "ignored",
          "traceback": [
            "\u001b[0;31m---------------------------------------------------------------------------\u001b[0m",
            "\u001b[0;31mStopIteration\u001b[0m                             Traceback (most recent call last)",
            "\u001b[0;32m<ipython-input-57-ff675a2ee99e>\u001b[0m in \u001b[0;36m<module>\u001b[0;34m()\u001b[0m\n\u001b[0;32m----> 1\u001b[0;31m \u001b[0mprint\u001b[0m\u001b[0;34m(\u001b[0m\u001b[0mnext\u001b[0m\u001b[0;34m(\u001b[0m\u001b[0mx\u001b[0m\u001b[0;34m)\u001b[0m\u001b[0;34m)\u001b[0m\u001b[0;34m\u001b[0m\u001b[0;34m\u001b[0m\u001b[0m\n\u001b[0m",
            "\u001b[0;31mStopIteration\u001b[0m: "
          ]
        }
      ]
    },
    {
      "cell_type": "markdown",
      "metadata": {
        "id": "E7F_NBYRbxue"
      },
      "source": [
        "# ***Python Generator***"
      ]
    },
    {
      "cell_type": "markdown",
      "metadata": {
        "id": "ODcGMyVgb6aI"
      },
      "source": [
        "*For string*"
      ]
    },
    {
      "cell_type": "code",
      "metadata": {
        "colab": {
          "base_uri": "https://localhost:8080/"
        },
        "id": "D_ySBj5Vb23H",
        "outputId": "fd4b4554-2ba8-48c1-9cb9-9fd286055df1"
      },
      "source": [
        "string1=str(input(\"enter the word:\"))\n",
        "s=string1.replace(' ','')\n",
        "def py_str(s):\n",
        "  for i in s:\n",
        "   print(i)"
      ],
      "execution_count": null,
      "outputs": [
        {
          "output_type": "stream",
          "text": [
            "enter the word:the universe\n"
          ],
          "name": "stdout"
        }
      ]
    },
    {
      "cell_type": "code",
      "metadata": {
        "colab": {
          "base_uri": "https://localhost:8080/"
        },
        "id": "cdW-VGn_e2CO",
        "outputId": "4bcf9ec7-1706-4be3-e9e4-b852e9cc15a8"
      },
      "source": [
        "py_str(s)"
      ],
      "execution_count": null,
      "outputs": [
        {
          "output_type": "stream",
          "text": [
            "t\n",
            "h\n",
            "e\n",
            "u\n",
            "n\n",
            "i\n",
            "v\n",
            "e\n",
            "r\n",
            "s\n",
            "e\n"
          ],
          "name": "stdout"
        }
      ]
    },
    {
      "cell_type": "markdown",
      "metadata": {
        "id": "1yFjyT8ofhUn"
      },
      "source": [
        "using iter"
      ]
    },
    {
      "cell_type": "code",
      "metadata": {
        "colab": {
          "base_uri": "https://localhost:8080/"
        },
        "id": "ua1vEFqsfi6w",
        "outputId": "47f45f4f-dc50-4107-dac5-26cd1894b46e"
      },
      "source": [
        "a='the universe'\n",
        "for i in a:\n",
        "  print(i)"
      ],
      "execution_count": null,
      "outputs": [
        {
          "output_type": "stream",
          "text": [
            "t\n",
            "h\n",
            "e\n",
            " \n",
            "u\n",
            "n\n",
            "i\n",
            "v\n",
            "e\n",
            "r\n",
            "s\n",
            "e\n"
          ],
          "name": "stdout"
        }
      ]
    },
    {
      "cell_type": "code",
      "metadata": {
        "id": "UOZSVtOuftmw"
      },
      "source": [
        "strg_itr=iter(a)"
      ],
      "execution_count": null,
      "outputs": []
    },
    {
      "cell_type": "code",
      "metadata": {
        "colab": {
          "base_uri": "https://localhost:8080/",
          "height": 35
        },
        "id": "9RKU9aqzf1Ie",
        "outputId": "01858610-84e5-47e7-c63d-ba8f92203dc1"
      },
      "source": [
        "next(strg_itr)"
      ],
      "execution_count": null,
      "outputs": [
        {
          "output_type": "execute_result",
          "data": {
            "application/vnd.google.colaboratory.intrinsic+json": {
              "type": "string"
            },
            "text/plain": [
              "'t'"
            ]
          },
          "metadata": {
            "tags": []
          },
          "execution_count": 92
        }
      ]
    },
    {
      "cell_type": "code",
      "metadata": {
        "colab": {
          "base_uri": "https://localhost:8080/",
          "height": 35
        },
        "id": "f5GlL4_Of8hA",
        "outputId": "eb6be716-fdab-4742-991e-d24d3a0178a2"
      },
      "source": [
        "next(strg_itr)"
      ],
      "execution_count": null,
      "outputs": [
        {
          "output_type": "execute_result",
          "data": {
            "application/vnd.google.colaboratory.intrinsic+json": {
              "type": "string"
            },
            "text/plain": [
              "'h'"
            ]
          },
          "metadata": {
            "tags": []
          },
          "execution_count": 93
        }
      ]
    },
    {
      "cell_type": "code",
      "metadata": {
        "colab": {
          "base_uri": "https://localhost:8080/",
          "height": 35
        },
        "id": "juLJUBjSf_bE",
        "outputId": "38a17391-724d-425e-be67-0e4d7388b4be"
      },
      "source": [
        "next(strg_itr)"
      ],
      "execution_count": null,
      "outputs": [
        {
          "output_type": "execute_result",
          "data": {
            "application/vnd.google.colaboratory.intrinsic+json": {
              "type": "string"
            },
            "text/plain": [
              "'e'"
            ]
          },
          "metadata": {
            "tags": []
          },
          "execution_count": 94
        }
      ]
    },
    {
      "cell_type": "code",
      "metadata": {
        "colab": {
          "base_uri": "https://localhost:8080/",
          "height": 35
        },
        "id": "qo12jiPjgA37",
        "outputId": "7654e659-d171-4227-b8e5-d1e60120d62a"
      },
      "source": [
        "next(strg_itr)"
      ],
      "execution_count": null,
      "outputs": [
        {
          "output_type": "execute_result",
          "data": {
            "application/vnd.google.colaboratory.intrinsic+json": {
              "type": "string"
            },
            "text/plain": [
              "' '"
            ]
          },
          "metadata": {
            "tags": []
          },
          "execution_count": 95
        }
      ]
    },
    {
      "cell_type": "code",
      "metadata": {
        "colab": {
          "base_uri": "https://localhost:8080/",
          "height": 35
        },
        "id": "IL6H2_F1gDAp",
        "outputId": "a8d36a05-dc9f-47ea-b004-672c6d89d613"
      },
      "source": [
        "next(strg_itr)"
      ],
      "execution_count": null,
      "outputs": [
        {
          "output_type": "execute_result",
          "data": {
            "application/vnd.google.colaboratory.intrinsic+json": {
              "type": "string"
            },
            "text/plain": [
              "'u'"
            ]
          },
          "metadata": {
            "tags": []
          },
          "execution_count": 96
        }
      ]
    },
    {
      "cell_type": "markdown",
      "metadata": {
        "id": "HPEtBZ49rXnz"
      },
      "source": [
        "***To yield random integers***"
      ]
    },
    {
      "cell_type": "code",
      "metadata": {
        "colab": {
          "base_uri": "https://localhost:8080/"
        },
        "id": "qtfFuwdCramE",
        "outputId": "3950c542-4390-498a-f774-702a37156bd4"
      },
      "source": [
        "import random\n",
        "\n",
        "random.randint(1,10)"
      ],
      "execution_count": 7,
      "outputs": [
        {
          "output_type": "execute_result",
          "data": {
            "text/plain": [
              "4"
            ]
          },
          "metadata": {
            "tags": []
          },
          "execution_count": 7
        }
      ]
    },
    {
      "cell_type": "code",
      "metadata": {
        "id": "avm6Xv1OrX2J"
      },
      "source": [
        "def rand_num(low,high,n):\n",
        "    \n",
        "    for i in range(n):\n",
        "        yield random.randint(low, high)"
      ],
      "execution_count": 3,
      "outputs": []
    },
    {
      "cell_type": "code",
      "metadata": {
        "colab": {
          "base_uri": "https://localhost:8080/"
        },
        "id": "44bfYEs0rmsg",
        "outputId": "b2134c84-3f99-482c-e343-066945c4f43e"
      },
      "source": [
        "rand_num(1,10,6)"
      ],
      "execution_count": 8,
      "outputs": [
        {
          "output_type": "execute_result",
          "data": {
            "text/plain": [
              "<generator object rand_num at 0x7fe24054e0d0>"
            ]
          },
          "metadata": {
            "tags": []
          },
          "execution_count": 8
        }
      ]
    },
    {
      "cell_type": "code",
      "metadata": {
        "colab": {
          "base_uri": "https://localhost:8080/"
        },
        "id": "XR-bmN1ltp8x",
        "outputId": "e3be30f9-9454-4436-eb92-80f73b561bc0"
      },
      "source": [
        "for num in rand_num(1,10,5):\n",
        "    print(num)"
      ],
      "execution_count": 10,
      "outputs": [
        {
          "output_type": "stream",
          "text": [
            "8\n",
            "10\n",
            "4\n",
            "9\n",
            "1\n"
          ],
          "name": "stdout"
        }
      ]
    }
  ]
}