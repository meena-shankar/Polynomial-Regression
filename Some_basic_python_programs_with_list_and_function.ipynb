{
  "nbformat": 4,
  "nbformat_minor": 0,
  "metadata": {
    "colab": {
      "name": "Some basic python programs with list and function",
      "provenance": [],
      "collapsed_sections": []
    },
    "kernelspec": {
      "name": "python3",
      "display_name": "Python 3"
    },
    "language_info": {
      "name": "python"
    }
  },
  "cells": [
    {
      "cell_type": "code",
      "metadata": {
        "colab": {
          "base_uri": "https://localhost:8080/",
          "height": 128
        },
        "id": "v4FwRXMAdONl",
        "outputId": "128a0ee7-f380-46c7-a47c-b2242d36f186"
      },
      "source": [
        "string=print('enter a word')\n",
        "def stringmanipulation(string):\n",
        "  newstring=\" \"\n",
        "\tlettercount=1\n",
        "\tfor character in string:\n",
        "\t\tif (lettercount%2==0):\n",
        "\t\t\tnewstring=newstring+character.upper()\n",
        "\t\telse:\n",
        "\t\t\tnewstring=newstring+character.lower()\n",
        "  lettercount+=1 \n",
        "\n",
        "return newstring\n",
        "\n",
        "print(\"the matching string is:\",stringmanipulation(string))\n"
      ],
      "execution_count": null,
      "outputs": [
        {
          "output_type": "error",
          "ename": "TabError",
          "evalue": "ignored",
          "traceback": [
            "\u001b[0;36m  File \u001b[0;32m\"<ipython-input-25-6f5f28497a9c>\"\u001b[0;36m, line \u001b[0;32m4\u001b[0m\n\u001b[0;31m    lettercount=1\u001b[0m\n\u001b[0m                 ^\u001b[0m\n\u001b[0;31mTabError\u001b[0m\u001b[0;31m:\u001b[0m inconsistent use of tabs and spaces in indentation\n"
          ]
        }
      ]
    },
    {
      "cell_type": "code",
      "metadata": {
        "colab": {
          "base_uri": "https://localhost:8080/"
        },
        "id": "bv6XUXBUisAb",
        "outputId": "31ea2881-ca12-4dce-8087-8b0e1e495d46"
      },
      "source": [
        "test_str = \"codinginpython\"\n",
        "print(\"The original string is : \" + str(test_str))\n",
        "res = \"\"\n",
        "for idx in range(len(test_str)):\n",
        "    if idx % 2==1 :\n",
        "       res = res + test_str[idx].upper()\n",
        "    else:\n",
        "       res = res + test_str[idx].lower()\n",
        "print(\"The alterate case string is : \" + str(res))"
      ],
      "execution_count": 1,
      "outputs": [
        {
          "output_type": "stream",
          "text": [
            "The original string is : codinginpython\n",
            "The alterate case string is : cOdInGiNpYtHoN\n"
          ],
          "name": "stdout"
        }
      ]
    },
    {
      "cell_type": "markdown",
      "metadata": {
        "id": "oMGOmKQYmcNX"
      },
      "source": [
        "def myfunc(*args):\n",
        "    even_list=[]\n",
        "    for n in args:\n",
        "        if n%2==0:\n",
        "          even_list.append(n)\n",
        "          return even_list[n]\n",
        "\n",
        "myfunc(2,4,3,89,90)         \n",
        "\n",
        "    \n"
      ]
    },
    {
      "cell_type": "code",
      "metadata": {
        "colab": {
          "base_uri": "https://localhost:8080/",
          "height": 52
        },
        "id": "J8l1HUjijbSc",
        "outputId": "a40d8b2d-a8f2-4fee-efbf-866cc580b260"
      },
      "source": [
        "string=print('enter a word')\n",
        "def stringmanipulation(string):\n",
        "  res=\"\"\n",
        "  for idx in range(len(string)):\n",
        "    if idx % 2==1 :\n",
        "       res = res + string[idx].upper()\n",
        "    else:\n",
        "       res = res + string[idx].lower()\n",
        "  return str(res)\n",
        "\n",
        "stringmanipulation('wearedoingcoding')"
      ],
      "execution_count": null,
      "outputs": [
        {
          "output_type": "stream",
          "text": [
            "enter a word\n"
          ],
          "name": "stdout"
        },
        {
          "output_type": "execute_result",
          "data": {
            "application/vnd.google.colaboratory.intrinsic+json": {
              "type": "string"
            },
            "text/plain": [
              "'wEaReDoInGcOdInG'"
            ]
          },
          "metadata": {
            "tags": []
          },
          "execution_count": 27
        }
      ]
    },
    {
      "cell_type": "markdown",
      "metadata": {
        "id": "AFnZh3T2mdTH"
      },
      "source": [
        "**Even numbers picking**\n",
        "Using *args in function. Here any number of variables can be passed "
      ]
    },
    {
      "cell_type": "code",
      "metadata": {
        "colab": {
          "base_uri": "https://localhost:8080/"
        },
        "id": "0oOMfHCSrCwF",
        "outputId": "4f71f6ca-9e1c-494f-f586-88a4fd6d5361"
      },
      "source": [
        "def myfunc(*args):\n",
        "    even=[]\n",
        "    for n in args:\n",
        "        if n %2==0:\n",
        "            even.append(n)\n",
        "        else:\n",
        "            pass\n",
        "        \n",
        "    return even\n",
        "myfunc(1,2,3,4,8,9)"
      ],
      "execution_count": null,
      "outputs": [
        {
          "output_type": "execute_result",
          "data": {
            "text/plain": [
              "[2, 4, 8]"
            ]
          },
          "metadata": {
            "tags": []
          },
          "execution_count": 45
        }
      ]
    },
    {
      "cell_type": "markdown",
      "metadata": {
        "id": "1HHgZPrwdJKw"
      },
      "source": [
        "# ***To find lesser of two evens. Funtions used: min(), max()***"
      ]
    },
    {
      "cell_type": "code",
      "metadata": {
        "id": "V_aDVZnW6MNt"
      },
      "source": [
        "def lesser_of_two_evens(a,b):\n",
        "  if a%2==0 and b%2==0:\n",
        "    return min (a,b)\n",
        "  else:\n",
        "    return max(a,b)"
      ],
      "execution_count": null,
      "outputs": []
    },
    {
      "cell_type": "markdown",
      "metadata": {
        "id": "02jeTH4ydg_F"
      },
      "source": [
        "## ***output***"
      ]
    },
    {
      "cell_type": "code",
      "metadata": {
        "colab": {
          "base_uri": "https://localhost:8080/"
        },
        "id": "ESWBr2cL6Q6x",
        "outputId": "c8ba8a85-1001-4ae7-d457-528e4a071c0c"
      },
      "source": [
        "lesser_of_two_evens(2,4)\n"
      ],
      "execution_count": null,
      "outputs": [
        {
          "output_type": "execute_result",
          "data": {
            "text/plain": [
              "2"
            ]
          },
          "metadata": {
            "tags": []
          },
          "execution_count": 50
        }
      ]
    },
    {
      "cell_type": "markdown",
      "metadata": {
        "id": "69o87mwFd2Cj"
      },
      "source": [
        "# ***Taking two variables and returing True, if either one of the variable or addtion of two variables is 20.***"
      ]
    },
    {
      "cell_type": "code",
      "metadata": {
        "id": "Wjj14ejKEh3C"
      },
      "source": [
        "def make_twenty(n1,n2):\n",
        "  return n1==20 or n2==20 or n1+n2==20 \n",
        "   "
      ],
      "execution_count": null,
      "outputs": []
    },
    {
      "cell_type": "markdown",
      "metadata": {
        "id": "DQnxE9LIeIQw"
      },
      "source": [
        "***Output:***"
      ]
    },
    {
      "cell_type": "code",
      "metadata": {
        "colab": {
          "base_uri": "https://localhost:8080/"
        },
        "id": "5sPQO5mqIFT_",
        "outputId": "e352891b-d4b2-4b7a-87df-85ed5e925eb0"
      },
      "source": [
        "make_twenty(8,7)"
      ],
      "execution_count": null,
      "outputs": [
        {
          "output_type": "execute_result",
          "data": {
            "text/plain": [
              "False"
            ]
          },
          "metadata": {
            "tags": []
          },
          "execution_count": 62
        }
      ]
    },
    {
      "cell_type": "markdown",
      "metadata": {
        "id": "AD5DYYBxIxxV"
      },
      "source": [
        "# ***Returning True if the starting letter of two given strings are same.Funtions used, split(), == to give True or False ***"
      ]
    },
    {
      "cell_type": "code",
      "metadata": {
        "id": "BQQ6KwqSI5PK"
      },
      "source": [
        "def animal_crackers(text):\n",
        "  word=text.split()\n",
        "  return word[0][0]==word[1][0]\n"
      ],
      "execution_count": null,
      "outputs": []
    },
    {
      "cell_type": "code",
      "metadata": {
        "colab": {
          "base_uri": "https://localhost:8080/"
        },
        "id": "cucpxkpxJ0I4",
        "outputId": "4c766d54-f9f3-4b54-a4d8-102d3439e603"
      },
      "source": [
        "animal_crackers('hipp hip')"
      ],
      "execution_count": null,
      "outputs": [
        {
          "output_type": "execute_result",
          "data": {
            "text/plain": [
              "True"
            ]
          },
          "metadata": {
            "tags": []
          },
          "execution_count": 72
        }
      ]
    },
    {
      "cell_type": "markdown",
      "metadata": {
        "id": "U8LyOiUEKlF2"
      },
      "source": [
        "# *** capitalizing the first and fourth letters of a name***"
      ]
    },
    {
      "cell_type": "markdown",
      "metadata": {
        "id": "p8En8CcZfkSp"
      },
      "source": [
        "***Keywords used:If, len()***"
      ]
    },
    {
      "cell_type": "code",
      "metadata": {
        "id": "_8W2Oq3QIEua"
      },
      "source": [
        "def capitalise(name):\n",
        "  if len(name) > 3:\n",
        "        return name[:3].capitalize() + name[3:].capitalize()\n",
        "  else:\n",
        "        return 'Name is too short!'\n"
      ],
      "execution_count": null,
      "outputs": []
    },
    {
      "cell_type": "code",
      "metadata": {
        "colab": {
          "base_uri": "https://localhost:8080/",
          "height": 35
        },
        "id": "1F_XaZsRMc1S",
        "outputId": "f089305c-2fc3-4f69-b708-c20214c15ed9"
      },
      "source": [
        "capitalise('Moo n to back')"
      ],
      "execution_count": null,
      "outputs": [
        {
          "output_type": "execute_result",
          "data": {
            "application/vnd.google.colaboratory.intrinsic+json": {
              "type": "string"
            },
            "text/plain": [
              "'Moo n to back'"
            ]
          },
          "metadata": {
            "tags": []
          },
          "execution_count": 113
        }
      ]
    },
    {
      "cell_type": "markdown",
      "metadata": {
        "id": "IrF2x18SgrTG"
      },
      "source": [
        "# ***Concatenating two given strings and capitalising alternate letters.***"
      ]
    },
    {
      "cell_type": "markdown",
      "metadata": {
        "id": "Le1MsOD3g0eH"
      },
      "source": [
        "***keyword used: .replace(' ', '')***"
      ]
    },
    {
      "cell_type": "code",
      "metadata": {
        "colab": {
          "base_uri": "https://localhost:8080/",
          "height": 35
        },
        "id": "49udmbcbvAmD",
        "outputId": "e04a42a3-8ed6-4429-c7eb-3d6325e2bb43"
      },
      "source": [
        "def stringmanipulation(string):\n",
        "  res = string.replace(' ','')\n",
        "  res1=''\n",
        "  for idx in range(len(res)):\n",
        "    if idx == 0 or idx==3 :\n",
        "       res1 = res1 + res[idx].upper()\n",
        "    else:\n",
        "       res1 = res1 + res[idx].lower()\n",
        "  return str(res1)\n",
        "\n",
        "stringmanipulation('hi all')"
      ],
      "execution_count": null,
      "outputs": [
        {
          "output_type": "execute_result",
          "data": {
            "application/vnd.google.colaboratory.intrinsic+json": {
              "type": "string"
            },
            "text/plain": [
              "'HiaLl'"
            ]
          },
          "metadata": {
            "tags": []
          },
          "execution_count": 9
        }
      ]
    },
    {
      "cell_type": "markdown",
      "metadata": {
        "id": "BvXYDEPghFQK"
      },
      "source": [
        "If a new string is not defined, two words will be concatenated and the in the ouput we will get, concatenation of the strings and alternate capitilisation of the letters together."
      ]
    },
    {
      "cell_type": "code",
      "metadata": {
        "colab": {
          "base_uri": "https://localhost:8080/",
          "height": 52
        },
        "id": "Hir0BQCyM3QZ",
        "outputId": "af08be8a-33ac-42d6-e8ba-bcce4ca257c2"
      },
      "source": [
        "string=print('enter a word')\n",
        "def stringmanipulation(string):\n",
        "  #s = string.replace(' ','')\n",
        "  res=\"\".join(string.split())\n",
        "  for idx in range(len(res)):\n",
        "    if idx == 0 or idx==3 :\n",
        "       res = res + res[idx].upper()\n",
        "    else:\n",
        "       res = res + res[idx].lower()\n",
        "  return str(res)\n",
        "\n",
        "stringmanipulation('hi there')"
      ],
      "execution_count": null,
      "outputs": [
        {
          "output_type": "stream",
          "text": [
            "enter a word\n"
          ],
          "name": "stdout"
        },
        {
          "output_type": "execute_result",
          "data": {
            "application/vnd.google.colaboratory.intrinsic+json": {
              "type": "string"
            },
            "text/plain": [
              "'hithereHitHere'"
            ]
          },
          "metadata": {
            "tags": []
          },
          "execution_count": 6
        }
      ]
    },
    {
      "cell_type": "markdown",
      "metadata": {
        "id": "wPMSB-BThkij"
      },
      "source": [
        "***Here instead of concatenating the strings with .replace(' ','') , \"\".join(string.split()) is used***"
      ]
    },
    {
      "cell_type": "code",
      "metadata": {
        "colab": {
          "base_uri": "https://localhost:8080/",
          "height": 52
        },
        "id": "ygzATNeRMXtL",
        "outputId": "6c60c6be-5732-43de-c04e-ee560b6fce8e"
      },
      "source": [
        "string=print('enter a word')\n",
        "def stringmanipulation(string):\n",
        "  res=\"\".join(string.split())\n",
        "  res1=''\n",
        "  for idx in range(len(res)):\n",
        "    if idx == 0 or idx==3 :\n",
        "       res1 = res1 + res[idx].upper()\n",
        "    else:\n",
        "       res1 = res1 + res[idx].lower()\n",
        "  return str(res1)\n",
        "\n",
        "stringmanipulation('hi there')"
      ],
      "execution_count": null,
      "outputs": [
        {
          "output_type": "stream",
          "text": [
            "enter a word\n"
          ],
          "name": "stdout"
        },
        {
          "output_type": "execute_result",
          "data": {
            "application/vnd.google.colaboratory.intrinsic+json": {
              "type": "string"
            },
            "text/plain": [
              "'HitHere'"
            ]
          },
          "metadata": {
            "tags": []
          },
          "execution_count": 10
        }
      ]
    },
    {
      "cell_type": "markdown",
      "metadata": {
        "id": "7EvnB7tciAnS"
      },
      "source": [
        "# ***Capitalising particular range of letter in a string***"
      ]
    },
    {
      "cell_type": "markdown",
      "metadata": {
        "id": "taujIPoKiT2O"
      },
      "source": [
        "*range(), len() and == operator is used*"
      ]
    },
    {
      "cell_type": "code",
      "metadata": {
        "id": "bqIHCBTfUEvJ"
      },
      "source": [
        "def capitalize1(new):\n",
        "  \n",
        "  for idx in range(len(res)):\n",
        "    if idx == 0 or idx==3 :\n",
        "       res = res + res[idx].upper()\n",
        "    else:\n",
        "       res = res + res[idx].lower()\n",
        "    return str(res)\n"
      ],
      "execution_count": 13,
      "outputs": []
    },
    {
      "cell_type": "markdown",
      "metadata": {
        "id": "tlSei2RWigZK"
      },
      "source": [
        "***Output:***"
      ]
    },
    {
      "cell_type": "code",
      "metadata": {
        "colab": {
          "base_uri": "https://localhost:8080/",
          "height": 35
        },
        "id": "hgPTcllCinYH",
        "outputId": "3ab4d7c1-7d12-4de7-c546-a642b2a7ad92"
      },
      "source": [
        "capitalize1(\"happy\")"
      ],
      "execution_count": 14,
      "outputs": [
        {
          "output_type": "execute_result",
          "data": {
            "application/vnd.google.colaboratory.intrinsic+json": {
              "type": "string"
            },
            "text/plain": [
              "'happyH'"
            ]
          },
          "metadata": {
            "tags": []
          },
          "execution_count": 14
        }
      ]
    },
    {
      "cell_type": "markdown",
      "metadata": {
        "id": "S3NPZrtSZsJ-"
      },
      "source": [
        "# ***String reverse***"
      ]
    },
    {
      "cell_type": "code",
      "metadata": {
        "colab": {
          "base_uri": "https://localhost:8080/"
        },
        "id": "h6fdmP0RZwdA",
        "outputId": "f93586b0-f603-4a46-ab0a-272a78003081"
      },
      "source": [
        "print(\"Enter the words\")\n",
        "def wreverse(text):\n",
        "  return ' '.join(text.split()[::-1])"
      ],
      "execution_count": null,
      "outputs": [
        {
          "output_type": "stream",
          "text": [
            "Enter the words\n"
          ],
          "name": "stdout"
        }
      ]
    },
    {
      "cell_type": "code",
      "metadata": {
        "colab": {
          "base_uri": "https://localhost:8080/",
          "height": 35
        },
        "id": "BvJwuz9KawJ5",
        "outputId": "66c17c14-90d7-4dad-ffc0-1405bc78ac30"
      },
      "source": [
        "wreverse('i am coming tomorrow')"
      ],
      "execution_count": null,
      "outputs": [
        {
          "output_type": "execute_result",
          "data": {
            "application/vnd.google.colaboratory.intrinsic+json": {
              "type": "string"
            },
            "text/plain": [
              "'tomorrow coming am i'"
            ]
          },
          "metadata": {
            "tags": []
          },
          "execution_count": 127
        }
      ]
    },
    {
      "cell_type": "markdown",
      "metadata": {
        "id": "8omZFe8on5Us"
      },
      "source": [
        "# ***Sring palindrome***"
      ]
    },
    {
      "cell_type": "code",
      "metadata": {
        "id": "HGBP5rexn9XH"
      },
      "source": [
        "def palindrome(s):\n",
        "    \n",
        "    s = s.replace(' ','') \n",
        "    return s == s[::-1]  "
      ],
      "execution_count": 16,
      "outputs": []
    },
    {
      "cell_type": "code",
      "metadata": {
        "colab": {
          "base_uri": "https://localhost:8080/"
        },
        "id": "qyfx8JjEoFAI",
        "outputId": "528162e2-6f92-46e6-bf17-d193996075d3"
      },
      "source": [
        "palindrome('racecar')"
      ],
      "execution_count": 18,
      "outputs": [
        {
          "output_type": "execute_result",
          "data": {
            "text/plain": [
              "True"
            ]
          },
          "metadata": {
            "tags": []
          },
          "execution_count": 18
        }
      ]
    },
    {
      "cell_type": "markdown",
      "metadata": {
        "id": "aw3SnG1mcQ9e"
      },
      "source": [
        "almost there."
      ]
    },
    {
      "cell_type": "code",
      "metadata": {
        "id": "TG1mGpeKcOpZ"
      },
      "source": [
        "def almost_there(n):\n",
        "  return (abs(100-n))<=10 or (abs(200-n))<=10"
      ],
      "execution_count": null,
      "outputs": []
    },
    {
      "cell_type": "code",
      "metadata": {
        "colab": {
          "base_uri": "https://localhost:8080/"
        },
        "id": "JaXtZCo9bAjS",
        "outputId": "e3a09643-0c01-4a6f-ddcb-b614aabb7986"
      },
      "source": [
        "almost_there(159)"
      ],
      "execution_count": null,
      "outputs": [
        {
          "output_type": "execute_result",
          "data": {
            "text/plain": [
              "False"
            ]
          },
          "metadata": {
            "tags": []
          },
          "execution_count": 130
        }
      ]
    },
    {
      "cell_type": "markdown",
      "metadata": {
        "id": "aWzClv2Xc_M7"
      },
      "source": [
        "# ***Return True if array has a 3 next to a 3. else return false***"
      ]
    },
    {
      "cell_type": "markdown",
      "metadata": {
        "id": "8-AH6_9SnSxS"
      },
      "source": [
        "***Method 1:***"
      ]
    },
    {
      "cell_type": "code",
      "metadata": {
        "id": "85i6woJydYGS"
      },
      "source": [
        "def func_33(nums):\n",
        "  for i in range(0,len(nums)-1):\n",
        "\n",
        "    if nums[i:i+2]==[3,3]:\n",
        "      return True\n",
        "    return False"
      ],
      "execution_count": null,
      "outputs": []
    },
    {
      "cell_type": "markdown",
      "metadata": {
        "id": "lEPa_hlRnXz7"
      },
      "source": [
        "***Method 2:***"
      ]
    },
    {
      "cell_type": "code",
      "metadata": {
        "id": "UNJy2B1tmwYw"
      },
      "source": [
        "def func_33(nums):\n",
        "  for i in range(0,len(nums)-1):\n",
        "\n",
        "    return nums[i:i+2]==[3,3]\n",
        "     "
      ],
      "execution_count": 15,
      "outputs": []
    },
    {
      "cell_type": "code",
      "metadata": {
        "colab": {
          "base_uri": "https://localhost:8080/"
        },
        "id": "6Fdjs803fsAg",
        "outputId": "f6183d90-51ca-4016-e7a5-ca26fc8ee18b"
      },
      "source": [
        "has_33([3,3,1])"
      ],
      "execution_count": null,
      "outputs": [
        {
          "output_type": "execute_result",
          "data": {
            "text/plain": [
              "True"
            ]
          },
          "metadata": {
            "tags": []
          },
          "execution_count": 140
        }
      ]
    },
    {
      "cell_type": "markdown",
      "metadata": {
        "id": "hyD0EX1TgJDQ"
      },
      "source": [
        "# ***Return every character 3 times***"
      ]
    },
    {
      "cell_type": "code",
      "metadata": {
        "id": "XIEAKhpHgIGv",
        "colab": {
          "base_uri": "https://localhost:8080/",
          "height": 35
        },
        "outputId": "373fb5fb-a6bd-45cf-a7c3-bd782039bfef"
      },
      "source": [
        "def getword(word):\n",
        "  result=''\n",
        "  for letter in word:\n",
        "    result=result+letter*3\n",
        "  return result\n",
        "\n",
        "getword('meena')"
      ],
      "execution_count": null,
      "outputs": [
        {
          "output_type": "execute_result",
          "data": {
            "application/vnd.google.colaboratory.intrinsic+json": {
              "type": "string"
            },
            "text/plain": [
              "'mmmeeeeeennnaaa'"
            ]
          },
          "metadata": {
            "tags": []
          },
          "execution_count": 33
        }
      ]
    }
  ]
}